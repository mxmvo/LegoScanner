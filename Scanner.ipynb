{
 "cells": [
  {
   "cell_type": "code",
   "execution_count": 1,
   "metadata": {},
   "outputs": [],
   "source": [
    "import rpyc\n",
    "import numpy as np\n",
    "import matplotlib.pyplot as plt\n",
    "from tqdm import tqdm_notebook as tqdm\n",
    "# m = motor.LargeMotor('outA')\n",
    "# m.run_timed(time_sp=1000, speed_sp=-1050)"
   ]
  },
  {
   "cell_type": "code",
   "execution_count": 2,
   "metadata": {
    "collapsed": true
   },
   "outputs": [],
   "source": [
    "def get_motors_and_sensor(motor, sensor):\n",
    "    cs = sensor.ColorSensor('in4')\n",
    "    ts1 = sensor.TouchSensor('in1')\n",
    "    ts2 = sensor.TouchSensor('in2')\n",
    "    bot = motor.LargeMotor('outA')\n",
    "    top = motor.LargeMotor('outB')\n",
    "    return top, bot, cs, ts1, ts2\n",
    "\n",
    "def record_scan_path():\n",
    "    top_l = []\n",
    "    bot_l = []\n",
    "    top.reset(), bot.reset()\n",
    "    #winsound.Beep(400, 500)\n",
    "    #winsound.Beep(400, 500)\n",
    "    #winsound.Beep(600, 500)\n",
    "    while(ts1.value() == 0):\n",
    "        while(ts2.value() == 0):\n",
    "            pass\n",
    "        top_p, bot_p = top.position, bot.position\n",
    "        print(top.position, bot.position)\n",
    "        top_l.append(top_p)\n",
    "        bot_l.append(bot_p)\n",
    "    return _clip_instructions(top_l, bot_l)\n",
    "\n",
    "def _clip_instructions(top_l, bot_l):\n",
    "    prev_t, prev_b = top_l[0], bot_l[0]\n",
    "    remove_front = 0\n",
    "    for t, b in zip(top_l, bot_l):\n",
    "        if t == prev_t and b == prev_b:\n",
    "            remove_front += 1        \n",
    "        else:\n",
    "            break\n",
    "            \n",
    "    prev_t, prev_b = top_l[-1], bot_l[-1]\n",
    "    remove_back = 0\n",
    "    for t, b in zip(reversed(top_l), reversed(bot_l)):\n",
    "        if t == prev_t and b == prev_b:\n",
    "            remove_back += 1        \n",
    "        else:\n",
    "            break\n",
    "    \n",
    "    first = remove_front - 1\n",
    "    if first < 0:\n",
    "        first = 0\n",
    "    last = -remove_back + 1\n",
    "    if last >= 0:\n",
    "        last = None\n",
    "    \n",
    "    return top_l[first:last], bot_l[first:last]"
   ]
  },
  {
   "cell_type": "code",
   "execution_count": 3,
   "metadata": {
    "collapsed": true
   },
   "outputs": [],
   "source": [
    "# bot.run_timed(time_sp=250, speed_sp=100)\n",
    "# top.run_timed(time_sp=250, speed_sp=100)"
   ]
  },
  {
   "cell_type": "code",
   "execution_count": 4,
   "metadata": {
    "scrolled": true
   },
   "outputs": [],
   "source": [
    "conn = rpyc.classic.connect('ev3dev.local')\n",
    "top, bot, cs, ts1, ts2 = get_motors_and_sensor(conn.modules['ev3dev2.motor'], conn.modules['ev3dev2.sensor.lego'])"
   ]
  },
  {
   "cell_type": "code",
   "execution_count": null,
   "metadata": {
    "scrolled": true
   },
   "outputs": [],
   "source": [
    "top_l, bot_l = record_scan_path()"
   ]
  },
  {
   "cell_type": "code",
   "execution_count": null,
   "metadata": {
    "collapsed": true
   },
   "outputs": [],
   "source": [
    "np.save('top_l.npy', top_l)\n",
    "np.save('bot_l.npy', bot_l)"
   ]
  },
  {
   "cell_type": "code",
   "execution_count": null,
   "metadata": {},
   "outputs": [],
   "source": [
    "top_l, bot_l = np.load('top_l.npy'), np.load('bot_l.npy')"
   ]
  },
  {
   "cell_type": "code",
   "execution_count": null,
   "metadata": {
    "collapsed": true
   },
   "outputs": [],
   "source": [
    "top.run_to_abs_pos(position_sp=0)\n",
    "bot.run_to_abs_pos(position_sp=0)"
   ]
  },
  {
   "cell_type": "code",
   "execution_count": null,
   "metadata": {},
   "outputs": [],
   "source": [
    "top.stop(), bot.stop(), top.speed_sp"
   ]
  },
  {
   "cell_type": "code",
   "execution_count": null,
   "metadata": {
    "collapsed": true
   },
   "outputs": [],
   "source": [
    "WHITE = (188, 217, 240)"
   ]
  },
  {
   "cell_type": "code",
   "execution_count": null,
   "metadata": {
    "collapsed": true,
    "scrolled": true
   },
   "outputs": [],
   "source": [
    "def reset_position():\n",
    "    top.run_to_abs_pos(position_sp = 0)\n",
    "    bot.run_to_abs_pos(position_sp = 0)\n",
    "    if top.wait_until_not_moving(timeout=2000) and bot.wait_until_not_moving(timeout=2000):\n",
    "        pass\n",
    "\n",
    "def clip_to_white(rgb):\n",
    "    def clip_one(value, max_):\n",
    "        return np.max(value, max_)\n",
    "    return [(np.max([r, WHITE[0]]), np.max([g, WHITE[1]]), np.max([b, WHITE[2]])) for r,g,b in rgb ]\n",
    "    \n",
    "def get_reading(top_l, bot_l, lim_n, timeout=2000):\n",
    "    reading = []\n",
    "    for (a, b) in tqdm(zip(top_l[:lim_n],bot_l[:lim_n])):\n",
    "        bot.run_to_abs_pos(position_sp = b)\n",
    "        top.run_to_abs_pos(position_sp = a)\n",
    "        reading.append(cs.raw)\n",
    "        reading.append(cs.raw)\n",
    "        reading.append(cs.raw)\n",
    "        reading.append(cs.raw)\n",
    "        reading.append(cs.raw)\n",
    "        reading.append(cs.raw)\n",
    "        if top.wait_until_not_moving(timeout=timeout) and bot.wait_until_not_moving(timeout=timeout):\n",
    "            pass\n",
    "        reading.append(cs.raw)\n",
    "        reading.append(cs.raw)\n",
    "    return clip_to_white(reading)\n",
    "\n",
    "def perform_readings(top_l, bot_l, n_runs=1, lim_n=None, speed=100):\n",
    "    top.speed_sp, bot.speed_sp = [speed] * 2\n",
    "    readings = []\n",
    "    for _ in range(n_runs):\n",
    "        reset_position()\n",
    "        reading = get_reading(top_l, bot_l, lim_n)\n",
    "        readings.append(reading)\n",
    "    return np.squeeze(np.array(readings))\n",
    "\n",
    "def get_rgb_mean_from_multiple_readings(readings):\n",
    "    return get_rgb(np.mean(readings, axis=0))\n",
    "\n",
    "def get_rgb(rgb):\n",
    "    return np.split(rgb, indices_or_sections=3, axis=1)\n",
    "\n",
    "def plot_rgb(r,g,b):\n",
    "    plt.plot(r, 'red')\n",
    "    plt.plot(g, 'green')\n",
    "    plt.plot(b, 'blue')\n",
    "    plt.show()"
   ]
  },
  {
   "cell_type": "code",
   "execution_count": null,
   "metadata": {},
   "outputs": [],
   "source": [
    "max_readings = 4\n",
    "readings = []\n",
    "stop_flag = False\n",
    "for _ in range(max_readings):\n",
    "    while(ts1.value() == 0):\n",
    "        if(ts2.value() == 1):\n",
    "            stop_flag = True\n",
    "            break\n",
    "        pass\n",
    "    if stop_flag:\n",
    "        break\n",
    "    \n",
    "    reading = perform_readings(top_l[::], bot_l[::], n_runs=1, lim_n=None, speed=50)\n",
    "    plot_rgb(*get_rgb(reading))\n",
    "    readings.append(reading)"
   ]
  },
  {
   "cell_type": "code",
   "execution_count": null,
   "metadata": {
    "collapsed": true
   },
   "outputs": [],
   "source": [
    "np.save('triangle_rotated.npy', readings)"
   ]
  },
  {
   "cell_type": "code",
   "execution_count": null,
   "metadata": {},
   "outputs": [],
   "source": [
    "max_readings = 3\n",
    "stop_flag = False\n",
    "for _ in range(max_readings):\n",
    "    while(ts1.value() == 0):\n",
    "        if(ts2.value() == 1):\n",
    "            stop_flag = True\n",
    "            break\n",
    "        pass\n",
    "    if stop_flag:\n",
    "        break\n",
    "    \n",
    "    reading = perform_readings(top_l[::], bot_l[::], n_runs=1, lim_n=None, speed=50)\n",
    "    plot_rgb(*get_rgb(reading))"
   ]
  },
  {
   "cell_type": "markdown",
   "metadata": {
    "collapsed": true
   },
   "source": [
    "-----\n",
    "\n",
    "See if we can get speed values from motors"
   ]
  },
  {
   "cell_type": "code",
   "execution_count": null,
   "metadata": {
    "collapsed": true
   },
   "outputs": [],
   "source": [
    "motor = conn.modules['ev3dev2.motor']      # import ev3dev2.ev3 remotely\n",
    "sensor = conn.modules['ev3dev2.sensor.lego']\n",
    "leds = conn.modules['ev3dev2.led']"
   ]
  },
  {
   "cell_type": "code",
   "execution_count": null,
   "metadata": {},
   "outputs": [],
   "source": [
    "#bot.run_forever(speed_sp = -30)\n",
    "for i in range(1000):\n",
    "  print('\\r' +str(bot.speed), end = ' ')"
   ]
  },
  {
   "cell_type": "code",
   "execution_count": null,
   "metadata": {},
   "outputs": [],
   "source": [
    "import time\n",
    "speed_arr = []\n",
    "pos_arr = []\n",
    "bot.ramp_up_sp = 5\n",
    "top.ramp_up_sp = 5\n",
    "print(bot.speed,top.speed,bot.position, top.position)\n",
    "print('GOGOGOGOGGOGOGO')\n",
    "time.sleep(.1)\n",
    "for i in range(100):\n",
    "  speed_arr.append([bot.speed,top.speed])\n",
    "  pos_arr.append([bot.position,top.position])\n",
    "  time.sleep(.1)"
   ]
  },
  {
   "cell_type": "code",
   "execution_count": null,
   "metadata": {},
   "outputs": [],
   "source": [
    "bot.speed_sp = 50\n",
    "top.speed_sp = 50\n",
    "\n",
    "bot.speed_p = 2000\n",
    "top.speed_p = 2000\n",
    "\n",
    "bot.speed_i = 60\n",
    "bot.speed_i = 60\n",
    "\n",
    "bot.speed_d = 0\n",
    "top.speed_d = 0\n",
    "\n",
    "for i in range(100):\n",
    "  bot.run_to_abs_pos(position_sp = pos_arr[i][0])#, speed_sp = speed_arr[i][0])\n",
    "  top.run_to_abs_pos(position_sp = pos_arr[i][1])#, speed_sp = speed_arr[i][1])\n",
    "  #bot.run_forever(speed_sp = speed_arr[i][0])\n",
    "  #top.run_forever(speed_sp = speed_arr[i][1])\n",
    "  #print(bot.speed_p, bot.speed_i, bot.speed_d)\n",
    "  time.sleep(.1)"
   ]
  },
  {
   "cell_type": "code",
   "execution_count": null,
   "metadata": {},
   "outputs": [],
   "source": [
    "s_col = sensor.ColorSensor('in4')\n",
    "col_arr = []\n",
    "for i in range(100):\n",
    "  time.sleep(.05)\n",
    "  col_arr.append(s_col.raw)"
   ]
  },
  {
   "cell_type": "code",
   "execution_count": null,
   "metadata": {},
   "outputs": [],
   "source": [
    "plt.plot(col_arr)\n",
    "plt.show()"
   ]
  },
  {
   "cell_type": "code",
   "execution_count": 7,
   "metadata": {},
   "outputs": [],
   "source": [
    "top.run_direct(duty_cycle_sp = 50)"
   ]
  },
  {
   "cell_type": "code",
   "execution_count": 32,
   "metadata": {
    "collapsed": true
   },
   "outputs": [],
   "source": [
    "top.duty_cycle_sp = -20\n"
   ]
  },
  {
   "cell_type": "code",
   "execution_count": 34,
   "metadata": {},
   "outputs": [],
   "source": [
    "top.reset()"
   ]
  },
  {
   "cell_type": "code",
   "execution_count": null,
   "metadata": {},
   "outputs": [],
   "source": [
    "dir(top)"
   ]
  },
  {
   "cell_type": "code",
   "execution_count": null,
   "metadata": {
    "collapsed": true
   },
   "outputs": [],
   "source": [
    "top.on_to_position?"
   ]
  },
  {
   "cell_type": "code",
   "execution_count": null,
   "metadata": {
    "collapsed": true
   },
   "outputs": [],
   "source": [
    "top.reset?"
   ]
  },
  {
   "cell_type": "code",
   "execution_count": null,
   "metadata": {},
   "outputs": [],
   "source": [
    "top.reset(), bot.reset()"
   ]
  },
  {
   "cell_type": "code",
   "execution_count": null,
   "metadata": {
    "collapsed": true
   },
   "outputs": [],
   "source": []
  }
 ],
 "metadata": {
  "kernelspec": {
   "display_name": "Python 3",
   "language": "python",
   "name": "python3"
  },
  "language_info": {
   "codemirror_mode": {
    "name": "ipython",
    "version": 3
   },
   "file_extension": ".py",
   "mimetype": "text/x-python",
   "name": "python",
   "nbconvert_exporter": "python",
   "pygments_lexer": "ipython3",
   "version": "3.6.5"
  }
 },
 "nbformat": 4,
 "nbformat_minor": 2
}

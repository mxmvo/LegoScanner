{
 "cells": [
  {
   "cell_type": "code",
   "execution_count": 118,
   "metadata": {},
   "outputs": [],
   "source": [
    "import sklearn\n",
    "import numpy as np\n",
    "\n",
    "from sklearn.neural_network import MLPClassifier\n",
    "from sklearn.linear_model import LogisticRegressionCV, LogisticRegression\n",
    "from sklearn.model_selection import train_test_split\n",
    "mlp = MLPClassifier()\n",
    "\n",
    "from environment.environment import Environment\n",
    "from utils import save_pickle, load_pickle"
   ]
  },
  {
   "cell_type": "code",
   "execution_count": 96,
   "metadata": {},
   "outputs": [
    {
     "data": {
      "text/plain": [
       "{'bot': (155,),\n",
       " 'cs': ((190, 162, 224),),\n",
       " 'top': (96,),\n",
       " 'ts1': (0,),\n",
       " 'ts2': (0,)}"
      ]
     },
     "execution_count": 96,
     "metadata": {},
     "output_type": "execute_result"
    }
   ],
   "source": [
    "env = Environment(brick_ip='ev3dev.local', get_state_mode='dict')\n",
    "env.get_state()"
   ]
  },
  {
   "cell_type": "markdown",
   "metadata": {},
   "source": [
    "if on:\n",
    "    calc_reward"
   ]
  },
  {
   "cell_type": "code",
   "execution_count": 108,
   "metadata": {
    "scrolled": false
   },
   "outputs": [],
   "source": [
    "class StateTrainer:\n",
    "    def __init__(self, env, class_names, samples_per_class, clf, test_size=0.1):\n",
    "        self.class_names = class_names\n",
    "        self.class_map = {\n",
    "            class_name: number for number, class_name in enumerate(self.class_names)\n",
    "        }\n",
    "        self.samples_per_class = samples_per_class\n",
    "        self.clf = clf\n",
    "        self.test_size = test_size\n",
    "        \n",
    "        self.env = env\n",
    "        \n",
    "        self.measurements = None\n",
    "        self.X = None\n",
    "        self.y = None\n",
    "        \n",
    "    def _rgb(self):\n",
    "        return self.env.get_state()['cs'][0]\n",
    "        \n",
    "    def _button1_pressed(self):\n",
    "        return self.env.get_state()['ts1'][0]\n",
    "        \n",
    "    def _gather_measurements(self):\n",
    "        final_measurements = []\n",
    "        for class_n, class_name in enumerate(self.class_names):\n",
    "            class_measurements = []\n",
    "            print(class_name)\n",
    "            for i in range(self.samples_per_class):\n",
    "                print(\"Press button 1 to collect a sample.\")\n",
    "                while not self._button1_pressed():\n",
    "                    pass\n",
    "                colors = self._rgb()\n",
    "                class_measurements.append(colors)\n",
    "                print(\"Collected sample:\", colors, \"of class\", class_name)\n",
    "            final_measurements.append(class_measurements)\n",
    "        return final_measurements\n",
    "\n",
    "    def get_data_for_training(self):\n",
    "        if self.measurements is None:\n",
    "            self.measurements = self._gather_measurements()\n",
    "        else:\n",
    "            print(\"Already have measurements.\")\n",
    "        \n",
    "        X = np.concatenate(self.measurements)\n",
    "        y_ = [[self.class_map[class_name]]*self.samples_per_class for class_name in self.class_names]\n",
    "        y = np.concatenate(y_)\n",
    "        self.X = X\n",
    "        self.y = y\n",
    "        \n",
    "        return train_test_split(X, y, test_size=self.test_size, stratify=y)\n",
    "    \n",
    "    def train(self):\n",
    "        X_train, X_test, y_train, y_test = self.get_data_for_training()\n",
    "        self.clf.fit(X_train, y_train)\n",
    "        return self.clf.score(X_test, y_test)\n",
    "    \n",
    "    def save_model(self, name):\n",
    "        save_pickle(name, self.clf)"
   ]
  },
  {
   "cell_type": "code",
   "execution_count": 98,
   "metadata": {},
   "outputs": [
    {
     "name": "stdout",
     "output_type": "stream",
     "text": [
      "off\n",
      "Press button 1 to collect a sample.\n",
      "Collected sample: (192, 139, 144) of class off\n",
      "Press button 1 to collect a sample.\n",
      "Collected sample: (176, 95, 67) of class off\n",
      "Press button 1 to collect a sample.\n",
      "Collected sample: (186, 87, 67) of class off\n",
      "Press button 1 to collect a sample.\n",
      "Collected sample: (213, 87, 58) of class off\n",
      "Press button 1 to collect a sample.\n",
      "Collected sample: (182, 82, 82) of class off\n",
      "Press button 1 to collect a sample.\n",
      "Collected sample: (182, 108, 109) of class off\n",
      "Press button 1 to collect a sample.\n",
      "Collected sample: (176, 66, 69) of class off\n",
      "Press button 1 to collect a sample.\n",
      "Collected sample: (180, 60, 98) of class off\n",
      "Press button 1 to collect a sample.\n",
      "Collected sample: (197, 76, 79) of class off\n",
      "Press button 1 to collect a sample.\n",
      "Collected sample: (185, 62, 93) of class off\n",
      "Press button 1 to collect a sample.\n",
      "Collected sample: (180, 54, 75) of class off\n",
      "Press button 1 to collect a sample.\n",
      "Collected sample: (188, 74, 102) of class off\n",
      "Press button 1 to collect a sample.\n",
      "Collected sample: (195, 57, 89) of class off\n",
      "Press button 1 to collect a sample.\n",
      "Collected sample: (218, 119, 139) of class off\n",
      "Press button 1 to collect a sample.\n",
      "Collected sample: (202, 61, 62) of class off\n",
      "Press button 1 to collect a sample.\n",
      "Collected sample: (183, 73, 120) of class off\n",
      "Press button 1 to collect a sample.\n",
      "Collected sample: (201, 98, 120) of class off\n",
      "Press button 1 to collect a sample.\n",
      "Collected sample: (194, 101, 110) of class off\n",
      "Press button 1 to collect a sample.\n",
      "Collected sample: (206, 76, 97) of class off\n",
      "Press button 1 to collect a sample.\n",
      "Collected sample: (205, 67, 72) of class off\n",
      "on\n",
      "Press button 1 to collect a sample.\n",
      "Collected sample: (198, 190, 239) of class on\n",
      "Press button 1 to collect a sample.\n",
      "Collected sample: (190, 181, 221) of class on\n",
      "Press button 1 to collect a sample.\n",
      "Collected sample: (192, 181, 230) of class on\n",
      "Press button 1 to collect a sample.\n",
      "Collected sample: (193, 174, 229) of class on\n",
      "Press button 1 to collect a sample.\n",
      "Collected sample: (111, 98, 146) of class on\n",
      "Press button 1 to collect a sample.\n",
      "Collected sample: (122, 108, 172) of class on\n",
      "Press button 1 to collect a sample.\n",
      "Collected sample: (126, 118, 136) of class on\n",
      "Press button 1 to collect a sample.\n",
      "Collected sample: (89, 88, 104) of class on\n",
      "Press button 1 to collect a sample.\n",
      "Collected sample: (192, 170, 229) of class on\n",
      "Press button 1 to collect a sample.\n",
      "Collected sample: (191, 182, 229) of class on\n",
      "Press button 1 to collect a sample.\n",
      "Collected sample: (186, 178, 225) of class on\n",
      "Press button 1 to collect a sample.\n",
      "Collected sample: (170, 136, 178) of class on\n",
      "Press button 1 to collect a sample.\n",
      "Collected sample: (201, 189, 238) of class on\n",
      "Press button 1 to collect a sample.\n",
      "Collected sample: (195, 183, 232) of class on\n",
      "Press button 1 to collect a sample.\n",
      "Collected sample: (84, 76, 97) of class on\n",
      "Press button 1 to collect a sample.\n",
      "Collected sample: (193, 183, 235) of class on\n",
      "Press button 1 to collect a sample.\n",
      "Collected sample: (190, 179, 229) of class on\n",
      "Press button 1 to collect a sample.\n",
      "Collected sample: (184, 179, 214) of class on\n",
      "Press button 1 to collect a sample.\n",
      "Collected sample: (199, 175, 235) of class on\n",
      "Press button 1 to collect a sample.\n",
      "Collected sample: (189, 178, 228) of class on\n",
      "1.0\n"
     ]
    }
   ],
   "source": [
    "class_names = ['off', 'on']\n",
    "samples_per_class = 20\n",
    "st = StateTrainer(env, class_names, samples_per_class=samples_per_class, clf=mlp, test_size=0.1)\n",
    "print(st.train())\n",
    "st.save_model('mlp_on_off.pickle')"
   ]
  },
  {
   "cell_type": "code",
   "execution_count": 99,
   "metadata": {
    "collapsed": true
   },
   "outputs": [],
   "source": [
    "mlp = load_pickle('on_or_off_classifier.pickle')"
   ]
  },
  {
   "cell_type": "code",
   "execution_count": 102,
   "metadata": {},
   "outputs": [
    {
     "name": "stdout",
     "output_type": "stream",
     "text": [
      "[1]\n",
      "[1]\n",
      "[1]\n",
      "[1]\n",
      "[1]\n"
     ]
    }
   ],
   "source": [
    "for i in range(5):\n",
    "    while not button1_pressed():\n",
    "        pass\n",
    "    colors = st._rgb()\n",
    "    print(mlp.predict(np.array(colors).reshape(1,-1)))"
   ]
  },
  {
   "cell_type": "code",
   "execution_count": 109,
   "metadata": {
    "collapsed": true
   },
   "outputs": [],
   "source": [
    "meas_save = st.measurements"
   ]
  },
  {
   "cell_type": "code",
   "execution_count": 125,
   "metadata": {},
   "outputs": [
    {
     "name": "stdout",
     "output_type": "stream",
     "text": [
      "['white', 'black', 'dot'] {'white': 0, 'black': 1, 'dot': 2}\n",
      "white\n",
      "Press button 1 to collect a sample.\n",
      "Collected sample: (189, 178, 231) of class white\n",
      "Press button 1 to collect a sample.\n",
      "Collected sample: (182, 170, 222) of class white\n",
      "Press button 1 to collect a sample.\n",
      "Collected sample: (194, 183, 237) of class white\n",
      "Press button 1 to collect a sample.\n",
      "Collected sample: (190, 181, 233) of class white\n",
      "Press button 1 to collect a sample.\n",
      "Collected sample: (185, 176, 226) of class white\n",
      "Press button 1 to collect a sample.\n",
      "Collected sample: (203, 192, 245) of class white\n",
      "Press button 1 to collect a sample.\n",
      "Collected sample: (193, 182, 231) of class white\n",
      "Press button 1 to collect a sample.\n",
      "Collected sample: (190, 181, 233) of class white\n",
      "Press button 1 to collect a sample.\n",
      "Collected sample: (186, 178, 226) of class white\n",
      "Press button 1 to collect a sample.\n",
      "Collected sample: (190, 181, 234) of class white\n",
      "Press button 1 to collect a sample.\n",
      "Collected sample: (188, 179, 230) of class white\n",
      "Press button 1 to collect a sample.\n",
      "Collected sample: (189, 177, 229) of class white\n",
      "Press button 1 to collect a sample.\n",
      "Collected sample: (197, 186, 239) of class white\n",
      "Press button 1 to collect a sample.\n",
      "Collected sample: (190, 179, 234) of class white\n",
      "Press button 1 to collect a sample.\n",
      "Collected sample: (191, 181, 233) of class white\n",
      "Press button 1 to collect a sample.\n",
      "Collected sample: (188, 178, 230) of class white\n",
      "Press button 1 to collect a sample.\n",
      "Collected sample: (186, 177, 229) of class white\n",
      "Press button 1 to collect a sample.\n",
      "Collected sample: (189, 178, 232) of class white\n",
      "Press button 1 to collect a sample.\n",
      "Collected sample: (184, 174, 225) of class white\n",
      "Press button 1 to collect a sample.\n",
      "Collected sample: (192, 182, 234) of class white\n",
      "black\n",
      "Press button 1 to collect a sample.\n",
      "Collected sample: (103, 98, 93) of class black\n",
      "Press button 1 to collect a sample.\n",
      "Collected sample: (131, 123, 164) of class black\n",
      "Press button 1 to collect a sample.\n",
      "Collected sample: (139, 130, 163) of class black\n",
      "Press button 1 to collect a sample.\n",
      "Collected sample: (147, 137, 172) of class black\n",
      "Press button 1 to collect a sample.\n",
      "Collected sample: (126, 113, 135) of class black\n",
      "Press button 1 to collect a sample.\n",
      "Collected sample: (109, 105, 100) of class black\n",
      "Press button 1 to collect a sample.\n",
      "Collected sample: (115, 120, 106) of class black\n",
      "Press button 1 to collect a sample.\n",
      "Collected sample: (113, 113, 123) of class black\n",
      "Press button 1 to collect a sample.\n",
      "Collected sample: (111, 112, 122) of class black\n",
      "Press button 1 to collect a sample.\n",
      "Collected sample: (107, 105, 123) of class black\n",
      "Press button 1 to collect a sample.\n",
      "Collected sample: (95, 96, 92) of class black\n",
      "Press button 1 to collect a sample.\n",
      "Collected sample: (129, 126, 123) of class black\n",
      "Press button 1 to collect a sample.\n",
      "Collected sample: (109, 100, 116) of class black\n",
      "Press button 1 to collect a sample.\n",
      "Collected sample: (126, 119, 142) of class black\n",
      "Press button 1 to collect a sample.\n",
      "Collected sample: (109, 88, 166) of class black\n",
      "Press button 1 to collect a sample.\n",
      "Collected sample: (77, 72, 114) of class black\n",
      "Press button 1 to collect a sample.\n",
      "Collected sample: (167, 155, 210) of class black\n",
      "Press button 1 to collect a sample.\n",
      "Collected sample: (69, 75, 31) of class black\n",
      "Press button 1 to collect a sample.\n",
      "Collected sample: (174, 167, 209) of class black\n",
      "Press button 1 to collect a sample.\n",
      "Collected sample: (143, 131, 175) of class black\n",
      "dot\n",
      "Press button 1 to collect a sample.\n",
      "Collected sample: (98, 92, 88) of class dot\n",
      "Press button 1 to collect a sample.\n",
      "Collected sample: (48, 39, 68) of class dot\n",
      "Press button 1 to collect a sample.\n",
      "Collected sample: (22, 20, 28) of class dot\n",
      "Press button 1 to collect a sample.\n",
      "Collected sample: (29, 35, 24) of class dot\n",
      "Press button 1 to collect a sample.\n",
      "Collected sample: (35, 34, 31) of class dot\n",
      "Press button 1 to collect a sample.\n",
      "Collected sample: (22, 18, 27) of class dot\n",
      "Press button 1 to collect a sample.\n",
      "Collected sample: (35, 27, 44) of class dot\n",
      "Press button 1 to collect a sample.\n",
      "Collected sample: (80, 88, 42) of class dot\n",
      "Press button 1 to collect a sample.\n",
      "Collected sample: (19, 16, 25) of class dot\n",
      "Press button 1 to collect a sample.\n",
      "Collected sample: (69, 69, 29) of class dot\n",
      "Press button 1 to collect a sample.\n",
      "Collected sample: (50, 43, 47) of class dot\n",
      "Press button 1 to collect a sample.\n",
      "Collected sample: (21, 18, 25) of class dot\n",
      "Press button 1 to collect a sample.\n",
      "Collected sample: (20, 18, 24) of class dot\n",
      "Press button 1 to collect a sample.\n",
      "Collected sample: (22, 27, 23) of class dot\n",
      "Press button 1 to collect a sample.\n",
      "Collected sample: (30, 24, 33) of class dot\n",
      "Press button 1 to collect a sample.\n",
      "Collected sample: (24, 23, 26) of class dot\n",
      "Press button 1 to collect a sample.\n",
      "Collected sample: (31, 23, 49) of class dot\n",
      "Press button 1 to collect a sample.\n",
      "Collected sample: (59, 54, 59) of class dot\n",
      "Press button 1 to collect a sample.\n",
      "Collected sample: (42, 49, 26) of class dot\n",
      "Press button 1 to collect a sample.\n",
      "Collected sample: (23, 22, 25) of class dot\n"
     ]
    },
    {
     "name": "stderr",
     "output_type": "stream",
     "text": [
      "C:\\Users\\Michal\\AppData\\Roaming\\Python\\Python36\\site-packages\\sklearn\\linear_model\\logistic.py:459: FutureWarning: Default multi_class will be changed to 'auto' in 0.22. Specify the multi_class option to silence this warning.\n",
      "  \"this warning.\", FutureWarning)\n",
      "C:\\Users\\Michal\\AppData\\Roaming\\Python\\Python36\\site-packages\\sklearn\\model_selection\\_split.py:1943: FutureWarning: You should specify a value for 'cv' instead of relying on the default value. The default value will change from 3 to 5 in version 0.22.\n",
      "  warnings.warn(CV_WARNING, FutureWarning)\n"
     ]
    },
    {
     "name": "stdout",
     "output_type": "stream",
     "text": [
      "1.0\n"
     ]
    }
   ],
   "source": [
    "class_names = ['white', 'black', 'dot']\n",
    "samples_per_class = 20\n",
    "st = StateTrainer(env, class_names, samples_per_class=samples_per_class, clf=LogisticRegressionCV(), test_size=0.1)\n",
    "# st.measurements = meas_save\n",
    "print(st.class_names, st.class_map)\n",
    "print(st.train())\n",
    "st.save_model('mlp_white_black.pickle')"
   ]
  },
  {
   "cell_type": "code",
   "execution_count": 126,
   "metadata": {
    "collapsed": true
   },
   "outputs": [],
   "source": [
    "clf = load_pickle('mlp_white_black.pickle')"
   ]
  },
  {
   "cell_type": "code",
   "execution_count": 128,
   "metadata": {},
   "outputs": [
    {
     "name": "stdout",
     "output_type": "stream",
     "text": [
      "[[5.56272072e-11 7.62900265e-01 2.37099735e-01]]\n",
      "[[1.54198023e-13 7.44306985e-01 2.55693015e-01]]\n",
      "[[2.17656940e-14 6.72710183e-01 3.27289817e-01]]\n",
      "[[3.86693673e-11 7.32640336e-01 2.67359664e-01]]\n",
      "[[9.24001487e-29 2.10605892e-01 7.89394108e-01]]\n"
     ]
    }
   ],
   "source": [
    "for i in range(5):\n",
    "    while not button1_pressed():\n",
    "        pass\n",
    "    colors = st._rgb()\n",
    "    print(clf.predict_proba(np.array(colors).reshape(1,-1)))"
   ]
  },
  {
   "cell_type": "code",
   "execution_count": null,
   "metadata": {
    "collapsed": true
   },
   "outputs": [],
   "source": []
  }
 ],
 "metadata": {
  "kernelspec": {
   "display_name": "Python 3",
   "language": "python",
   "name": "python3"
  },
  "language_info": {
   "codemirror_mode": {
    "name": "ipython",
    "version": 3
   },
   "file_extension": ".py",
   "mimetype": "text/x-python",
   "name": "python",
   "nbconvert_exporter": "python",
   "pygments_lexer": "ipython3",
   "version": "3.6.1"
  }
 },
 "nbformat": 4,
 "nbformat_minor": 2
}

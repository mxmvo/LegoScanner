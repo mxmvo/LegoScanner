{
 "cells": [
  {
   "cell_type": "code",
   "execution_count": 9,
   "metadata": {
    "collapsed": true
   },
   "outputs": [],
   "source": [
    "import rpyc\n",
    "import numpy as np\n",
    "import matplotlib.pyplot as plt\n",
    "% matplotlib inline\n",
    "\n",
    "import time\n",
    "from tqdm import tqdm_notebook as tqdm"
   ]
  },
  {
   "cell_type": "code",
   "execution_count": 2,
   "metadata": {
    "collapsed": true
   },
   "outputs": [],
   "source": [
    "# Import the modules so that we can control the motors, sensors\n",
    "\n",
    "conn = rpyc.classic.connect('ev3dev.local')\n",
    "motor = conn.modules['ev3dev2.motor']      # import ev3dev2.ev3 remotely\n",
    "sensor = conn.modules['ev3dev2.sensor.lego']\n",
    "leds = conn.modules['ev3dev2.led']"
   ]
  },
  {
   "cell_type": "code",
   "execution_count": 3,
   "metadata": {
    "collapsed": true
   },
   "outputs": [],
   "source": [
    "# Make a reference for every motor/sensor we want to use\n",
    "\n",
    "bot = motor.LargeMotor('outA') \n",
    "top = motor.LargeMotor('outB')\n",
    "ts1 = sensor.TouchSensor('in1')\n",
    "ts2 = sensor.TouchSensor('in2')\n",
    "cs = sensor.ColorSensor('in4')"
   ]
  },
  {
   "cell_type": "markdown",
   "metadata": {},
   "source": [
    "-----\n",
    "## Q-table learning:\n",
    "\n",
    "To Do:\n",
    "- What do we need for q-table learnging?\n",
    "- Use speed instead of Duty cycles (including the tank)\n",
    "\n",
    "\n",
    "Draft:\n",
    "Init:\n",
    "- environement\n",
    "    - Action set\n",
    "    - State set: Discretized postitions and speed\n",
    "    - Reward function: state x action -> reward\n",
    "        - Takes into account: playing field\n",
    "    \n",
    "- Agent:\n",
    "    - env.actions\n",
    "    - hyper parameters\n",
    "    - preprocess the state\n",
    "    \n",
    "    - Q-learning (table):\n",
    "         - Value table: state -> V-value (expected reward)\n",
    "         - Value-State table: state x action -> Q-value (expected reward if taken an action)\n",
    "         \n",
    "training:\n",
    "- Environement: gives you the state\n",
    "- preprocess state to state_1\n",
    "- Agent: input = state_1, output = action\n",
    "- Evironement: input = action, output = reward\n",
    "- Agent: input: action, state, rewards\n",
    "    Update weights\n",
    " "
   ]
  },
  {
   "cell_type": "code",
   "execution_count": 71,
   "metadata": {
    "collapsed": true
   },
   "outputs": [],
   "source": [
    "# Some high level variables\n",
    "\n",
    "duty_cycle_actions = [10,-10]\n",
    "measure_num = 5\n",
    "measure_t_delta = .05\n"
   ]
  },
  {
   "cell_type": "code",
   "execution_count": null,
   "metadata": {},
   "outputs": [],
   "source": [
    "# Agent\n",
    "# Input: the parameters\n",
    "# Output: The action\n",
    "\n",
    "'''\n",
    "class Agent(nn.Module):\n",
    "  def __init__(self, input):\n",
    "    super(self, initsdsadasd)\n",
    "    self.layer_1 = nn.Conv2D(asdasdsa)\n",
    "    \n",
    "  def forward():\n",
    "    x = self.layer_1(x)\n",
    "    x = activation(x)\n",
    "'''\n",
    "\n",
    "    "
   ]
  },
  {
   "cell_type": "code",
   "execution_count": 72,
   "metadata": {},
   "outputs": [
    {
     "name": "stdout",
     "output_type": "stream",
     "text": [
      "0.11942577362060547\n",
      "0.7959320545196533\n",
      "0.7834861278533936\n",
      "0.8260498046875\n",
      "0.7883310317993164\n",
      "0.8418018817901611\n",
      "0.8925127983093262\n",
      "0.8723587989807129\n",
      "0.8483381271362305\n",
      "0.8360528945922852\n",
      "0.8710238933563232\n",
      "0.8273890018463135\n",
      "0.8608958721160889\n",
      "0.8508152961730957\n",
      "0.8648431301116943\n",
      "0.9309670925140381\n",
      "0.8648200035095215\n",
      "0.844789981842041\n",
      "0.9173738956451416\n",
      "0.8959629535675049\n",
      "0.8709812164306641\n",
      "0.8184490203857422\n",
      "0.7861030101776123\n",
      "0.8972117900848389\n",
      "0.814924955368042\n",
      "0.7698030471801758\n",
      "0.9383230209350586\n",
      "0.9646470546722412\n"
     ]
    },
    {
     "data": {
      "text/plain": [
       "(None, None)"
      ]
     },
     "execution_count": 72,
     "metadata": {},
     "output_type": "execute_result"
    }
   ],
   "source": [
    "top.run_direct(duty_cycle_sp = 0)\n",
    "bot.run_direct(duty_cycle_sp = 0)\n",
    "\n",
    "start = time.time()\n",
    "\n",
    "# for data collection\n",
    "greys = np.zeros((100,measure_num))\n",
    "d_cycle_mem = np.zeros((100,2))\n",
    "j = 0\n",
    "while j < 100 and not ts1.is_pressed:\n",
    "  print(time.time()-start)\n",
    "  start = time.time()\n",
    "  # randomly select some actions\n",
    "  # This should later be changed to an architecture\n",
    "  \n",
    "  d_cycles = np.random.choice(duty_cycle_actions, size = 2)\n",
    "  \n",
    "  d_cycle_mem[j] = d_cycles\n",
    "  \n",
    "  # Step: \n",
    "  # assign the new values\n",
    "  top.duty_cycle_sp, bot.duty_cycle_sp = d_cycles\n",
    "\n",
    "  # Collect data\n",
    "  \n",
    "  for i in range(measure_num):\n",
    "    greys[j,i] = np.mean(cs.raw)/256\n",
    "    time.sleep(measure_t_delta)\n",
    "  \n",
    "  \n",
    "    \n",
    "  j += 1\n",
    "# Once we stop reset the motors  \n",
    "top.reset(), bot.reset()  \n",
    "\n"
   ]
  },
  {
   "cell_type": "code",
   "execution_count": 66,
   "metadata": {},
   "outputs": [
    {
     "data": {
      "image/png": "[encoded data removed]",
      "text/plain": [
       "<matplotlib.figure.Figure at 0x10aa1f4e0>"
      ]
     },
     "metadata": {},
     "output_type": "display_data"
    }
   ],
   "source": [
    "# Low values correspond to the line\n",
    "plt.figure(figsize = (10,10))\n",
    "plt.plot(greys.T, linewidth = .5)\n",
    "\n",
    "plt.show()"
   ]
  },
  {
   "cell_type": "code",
   "execution_count": 80,
   "metadata": {},
   "outputs": [],
   "source": [
    "top.reset()\n",
    "bot.reset()\n"
   ]
  },
  {
   "cell_type": "code",
   "execution_count": 84,
   "metadata": {},
   "outputs": [],
   "source": [
    "top.run_direct(speed_sp = 100)"
   ]
  },
  {
   "cell_type": "code",
   "execution_count": null,
   "metadata": {},
   "outputs": [],
   "source": []
  },
  {
   "cell_type": "code",
   "execution_count": 64,
   "metadata": {},
   "outputs": [
    {
     "data": {
      "text/plain": [
       "([array([15., 16.,  0.,  0.,  0., 41.,  0.,  0., 16., 12.]),\n",
       "  array([21.,  9.,  0.,  0.,  0., 31.,  0.,  0., 20., 19.])],\n",
       " array([-15., -12.,  -9.,  -6.,  -3.,   0.,   3.,   6.,   9.,  12.,  15.]),\n",
       " <a list of 2 Lists of Patches objects>)"
      ]
     },
     "execution_count": 64,
     "metadata": {},
     "output_type": "execute_result"
    },
    {
     "data": {
      "image/png": "[encoded data removed]",
      "text/plain": [
       "<matplotlib.figure.Figure at 0x10ab4d5f8>"
      ]
     },
     "metadata": {},
     "output_type": "display_data"
    }
   ],
   "source": [
    "plt.hist(d_cycle_mem)"
   ]
  },
  {
   "cell_type": "markdown",
   "metadata": {},
   "source": [
    "# Designing the playing field\n",
    "\n"
   ]
  },
  {
   "cell_type": "code",
   "execution_count": 85,
   "metadata": {
    "collapsed": true
   },
   "outputs": [],
   "source": [
    "tank = motor.MoveTank('outA','outB')"
   ]
  },
  {
   "cell_type": "code",
   "execution_count": 124,
   "metadata": {
    "collapsed": true
   },
   "outputs": [],
   "source": [
    "tank.on(-3,-3)"
   ]
  },
  {
   "cell_type": "code",
   "execution_count": 106,
   "metadata": {},
   "outputs": [
    {
     "name": "stdout",
     "output_type": "stream",
     "text": [
      "\n",
      "    Controls a pair of motors simultaneously, via individual speed setpoints for each motor.\n",
      "\n",
      "    Example:\n",
      "\n",
      "    .. code:: python\n",
      "\n",
      "        tank_drive = MoveTank(OUTPUT_A, OUTPUT_B)\n",
      "        # drive in a turn for 10 rotations of the outer motor\n",
      "        tank_drive.on_for_rotations(50, 75, 10)\n",
      "    \n"
     ]
    }
   ],
   "source": [
    "print(tank.__doc__)"
   ]
  },
  {
   "cell_type": "code",
   "execution_count": 125,
   "metadata": {},
   "outputs": [],
   "source": [
    "tank.stop()"
   ]
  },
  {
   "cell_type": "code",
   "execution_count": null,
   "metadata": {
    "collapsed": true
   },
   "outputs": [],
   "source": []
  }
 ],
 "metadata": {
  "kernelspec": {
   "display_name": "Python 3",
   "language": "python",
   "name": "python3"
  },
  "language_info": {
   "codemirror_mode": {
    "name": "ipython",
    "version": 3
   },
   "file_extension": ".py",
   "mimetype": "text/x-python",
   "name": "python",
   "nbconvert_exporter": "python",
   "pygments_lexer": "ipython3",
   "version": "3.6.5"
  }
 },
 "nbformat": 4,
 "nbformat_minor": 2
}
